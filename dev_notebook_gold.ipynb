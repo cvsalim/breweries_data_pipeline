{
 "cells": [
  {
   "cell_type": "code",
   "execution_count": 1,
   "metadata": {},
   "outputs": [],
   "source": [
    "from pyspark.sql import SparkSession\n",
    "from pyspark.sql.functions import col\n",
    "import os"
   ]
  },
  {
   "cell_type": "code",
   "execution_count": null,
   "metadata": {},
   "outputs": [],
   "source": [
    "spark = SparkSession.builder.appName(\"GoldLayer\").getOrCreate()"
   ]
  },
  {
   "cell_type": "code",
   "execution_count": null,
   "metadata": {},
   "outputs": [
    {
     "name": "stdout",
     "output_type": "stream",
     "text": [
      "Dados agregados e armazenados na camada Gold.\n"
     ]
    }
   ],
   "source": [
    "# Paths\n",
    "silver_path = os.getcwd() + \"/silver_layer\"\n",
    "gold_path = os.getcwd() + \"/gold_layer\"\n",
    "os.makedirs(gold_path, exist_ok=True)"
   ]
  },
  {
   "cell_type": "code",
   "execution_count": null,
   "metadata": {},
   "outputs": [],
   "source": [
    "# Load and transform as DataFrame Spark\n",
    "silver_df = spark.read.parquet(silver_path)\n",
    "\n",
    "# Aggregate by state\n",
    "agg_df = silver_df.groupBy(\"brewery_type\", \"state\").count()\n",
    "\n",
    "# Save data\n",
    "agg_df.write.mode(\"overwrite\").parquet(gold_path)\n",
    "\n",
    "print(\"Dados agregados e armazenados na camada Gold.\")"
   ]
  },
  {
   "cell_type": "code",
   "execution_count": null,
   "metadata": {},
   "outputs": [
    {
     "name": "stdout",
     "output_type": "stream",
     "text": [
      "+------------+--------------+-----+\n",
      "|brewery_type|         state|count|\n",
      "+------------+--------------+-----+\n",
      "|       micro|     Wisconsin|    2|\n",
      "|       large|        Oregon|    4|\n",
      "|       micro| Massachusetts|    1|\n",
      "|     brewpub|North Carolina|    1|\n",
      "|      closed|    California|    1|\n",
      "|       micro|    California|    2|\n",
      "|       micro|       Arizona|    3|\n",
      "|       micro|      Illinois|    1|\n",
      "|      closed|    Washington|    1|\n",
      "|       micro|North Carolina|    1|\n",
      "|     brewpub|South Carolina|    1|\n",
      "|       micro|         Texas|    2|\n",
      "|       micro|         Laois|    1|\n",
      "|       micro|  Pennsylvania|    1|\n",
      "|       large|      Colorado|    1|\n",
      "|       micro|      Delaware|    1|\n",
      "|  proprietor|      Colorado|    1|\n",
      "|       micro|      Colorado|    1|\n",
      "|       large|         Idaho|    1|\n",
      "|     brewpub|        Oregon|    2|\n",
      "+------------+--------------+-----+\n",
      "only showing top 20 rows\n",
      "\n"
     ]
    }
   ],
   "source": [
    "agg_df.show()"
   ]
  }
 ],
 "metadata": {
  "kernelspec": {
   "display_name": "Python 3",
   "language": "python",
   "name": "python3"
  },
  "language_info": {
   "codemirror_mode": {
    "name": "ipython",
    "version": 3
   },
   "file_extension": ".py",
   "mimetype": "text/x-python",
   "name": "python",
   "nbconvert_exporter": "python",
   "pygments_lexer": "ipython3",
   "version": "3.10.6"
  }
 },
 "nbformat": 4,
 "nbformat_minor": 2
}
